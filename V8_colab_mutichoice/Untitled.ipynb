{
 "cells": [
  {
   "cell_type": "code",
   "execution_count": 5,
   "id": "c9ac5310",
   "metadata": {},
   "outputs": [
    {
     "data": {
      "text/plain": [
       "{1: (True, 0), 2: (True, 1), 3: (True, 2), 4: (True, 3)}"
      ]
     },
     "execution_count": 5,
     "metadata": {},
     "output_type": "execute_result"
    }
   ],
   "source": []
  }
 ],
 "metadata": {
  "kernelspec": {
   "display_name": "Python 3",
   "language": "python",
   "name": "python3"
  },
  "language_info": {
   "codemirror_mode": {
    "name": "ipython",
    "version": 3
   },
   "file_extension": ".py",
   "mimetype": "text/x-python",
   "name": "python",
   "nbconvert_exporter": "python",
   "pygments_lexer": "ipython3",
   "version": "3.8.8"
  }
 },
 "nbformat": 4,
 "nbformat_minor": 5
}
