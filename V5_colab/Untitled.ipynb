{
 "cells": [
  {
   "cell_type": "code",
   "execution_count": 2,
   "id": "9194a2d1",
   "metadata": {},
   "outputs": [
    {
     "name": "stdout",
     "output_type": "stream",
     "text": [
      "[1, 4, 9]\n"
     ]
    }
   ],
   "source": [
    "from multiprocessing import Pool\n",
    "\n",
    "def f(x):\n",
    "    return x*x\n",
    "\n",
    "if __name__ == '__main__':\n",
    "    with Pool(5) as p:\n",
    "        print(p.map(f, [1, 2, 3]))"
   ]
  },
  {
   "cell_type": "code",
   "execution_count": 131,
   "id": "38cdbb42",
   "metadata": {},
   "outputs": [
    {
     "name": "stdout",
     "output_type": "stream",
     "text": [
      "[1, 4194304, 94143178827, 281474976710656, 298023223876953125, 170581728179578208256, 65712362363534280139543, 19342813113834066795298816, 4710128697246244834921603689]\n"
     ]
    }
   ],
   "source": [
    "x=zip(range(1,10),range(21,30))\n",
    "\n",
    "def f(x):\n",
    "    return x[0]**x[1]\n",
    "with Pool(6) as p:\n",
    "    print(p.map(f,x))\n",
    "    "
   ]
  },
  {
   "cell_type": "code",
   "execution_count": null,
   "id": "2a6fbeba",
   "metadata": {},
   "outputs": [],
   "source": []
  },
  {
   "cell_type": "code",
   "execution_count": 33,
   "id": "50c19526",
   "metadata": {},
   "outputs": [],
   "source": [
    "import  gym.spaces as sp\n",
    "import numpy as np"
   ]
  },
  {
   "cell_type": "code",
   "execution_count": 126,
   "id": "a998b7dc",
   "metadata": {},
   "outputs": [],
   "source": [
    "    x=sp.Box(0,1,(10,),int)"
   ]
  },
  {
   "cell_type": "code",
   "execution_count": 129,
   "id": "b8e47578",
   "metadata": {},
   "outputs": [],
   "source": [
    "y=zip(range(10),x.sample())"
   ]
  },
  {
   "cell_type": "code",
   "execution_count": 146,
   "id": "11a16d11",
   "metadata": {},
   "outputs": [],
   "source": [
    "y=np.array([False,True,False,True,True])"
   ]
  },
  {
   "cell_type": "code",
   "execution_count": 153,
   "id": "1ca2a833",
   "metadata": {},
   "outputs": [],
   "source": [
    "x=sp.Discrete(2)"
   ]
  },
  {
   "cell_type": "code",
   "execution_count": 186,
   "id": "9ac94fb5",
   "metadata": {},
   "outputs": [
    {
     "data": {
      "text/plain": [
       "0.0"
      ]
     },
     "execution_count": 186,
     "metadata": {},
     "output_type": "execute_result"
    }
   ],
   "source": [
    "np.array([0,0,0]).reshape(1,3).mean()"
   ]
  }
 ],
 "metadata": {
  "kernelspec": {
   "display_name": "Python 3",
   "language": "python",
   "name": "python3"
  },
  "language_info": {
   "codemirror_mode": {
    "name": "ipython",
    "version": 3
   },
   "file_extension": ".py",
   "mimetype": "text/x-python",
   "name": "python",
   "nbconvert_exporter": "python",
   "pygments_lexer": "ipython3",
   "version": "3.8.8"
  }
 },
 "nbformat": 4,
 "nbformat_minor": 5
}
